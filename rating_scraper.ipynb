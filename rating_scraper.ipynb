{
 "cells": [
  {
   "cell_type": "code",
   "execution_count": 20,
   "id": "4a7649c1",
   "metadata": {},
   "outputs": [],
   "source": [
    "import yesg"
   ]
  },
  {
   "cell_type": "code",
   "execution_count": 5,
   "id": "167a6ec7",
   "metadata": {},
   "outputs": [],
   "source": [
    "#uses the yesg library to turn a ticker into the latest esg score as a float\n",
    "def latest_environmental_score(_ticker):\n",
    "    try:\n",
    "        cell = yesg.get_esg_short(str(_ticker))['E-Score'][0]\n",
    "        return float(cell)\n",
    "    except:\n",
    "        print('an error has occured related to the yesg library')\n",
    "        return 0"
   ]
  },
  {
   "cell_type": "code",
   "execution_count": 19,
   "id": "1a0c3f1b",
   "metadata": {},
   "outputs": [
    {
     "data": {
      "text/plain": [
       "16.4"
      ]
     },
     "execution_count": 19,
     "metadata": {},
     "output_type": "execute_result"
    }
   ],
   "source": [
    "latest_environmental_score('PSX')"
   ]
  },
  {
   "cell_type": "code",
   "execution_count": null,
   "id": "caad3e6a",
   "metadata": {},
   "outputs": [],
   "source": []
  }
 ],
 "metadata": {
  "kernelspec": {
   "display_name": "Python 3 (ipykernel)",
   "language": "python",
   "name": "python3"
  },
  "language_info": {
   "codemirror_mode": {
    "name": "ipython",
    "version": 3
   },
   "file_extension": ".py",
   "mimetype": "text/x-python",
   "name": "python",
   "nbconvert_exporter": "python",
   "pygments_lexer": "ipython3",
   "version": "3.10.6"
  }
 },
 "nbformat": 4,
 "nbformat_minor": 5
}
